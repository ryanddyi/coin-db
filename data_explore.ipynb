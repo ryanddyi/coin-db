{
 "cells": [
  {
   "cell_type": "code",
   "execution_count": 1,
   "metadata": {},
   "outputs": [],
   "source": [
    "import main as coindb\n",
    "import configparser\n",
    "import util\n",
    "import pandas as pd\n",
    "import numpy as np\n",
    "import matplotlib.pyplot as plt\n",
    "\n",
    "config = configparser.ConfigParser()\n",
    "config.read('config.ini')\n",
    "db_config = config['mysql']\n",
    "\n",
    "db = coindb.DatabaseManagement(db_config)"
   ]
  },
  {
   "cell_type": "code",
   "execution_count": 2,
   "metadata": {},
   "outputs": [],
   "source": [
    "df_close = db.get_df_variable()"
   ]
  },
  {
   "cell_type": "code",
   "execution_count": 3,
   "metadata": {
    "scrolled": true
   },
   "outputs": [],
   "source": [
    "def price_to_return(df_close):\n",
    "\n",
    "    # return of crypto\n",
    "    mat = ((df_close[1:].values / df_close[:-1].values) - 1)*100\n",
    "\n",
    "    # screen by asset s.t. at least 800 day trading history\n",
    "    condition_asset = (~np.isnan(mat)).sum(0)>800\n",
    "    mat_temp = mat[:,condition_asset]\n",
    "    df_temp = pd.DataFrame(mat_temp, columns=df_close.columns[condition_asset], index=df_close[1:].index)\n",
    "\n",
    "    # screen by date \n",
    "    max_id = mat_temp.shape[0] - 1\n",
    "    min_id = max_id - 800\n",
    "    df_temp = pd.DataFrame(mat_temp[min_id:max_id,:], columns=df_temp.columns, index=df_temp.index[min_id:max_id])\n",
    "\n",
    "    # final screen \n",
    "    condition = (np.isnan(df_temp).sum(0)<1)\n",
    "    df_return = pd.DataFrame(df_temp.values[:,condition], columns=df_temp.columns[condition], index=df_temp.index)\n",
    "    \n",
    "    return df_return"
   ]
  },
  {
   "cell_type": "code",
   "execution_count": 4,
   "metadata": {},
   "outputs": [
    {
     "name": "stderr",
     "output_type": "stream",
     "text": [
      "/home/ryan/.local/lib/python3.6/site-packages/ipykernel_launcher.py:4: RuntimeWarning: divide by zero encountered in true_divide\n",
      "  after removing the cwd from sys.path.\n",
      "/home/ryan/.local/lib/python3.6/site-packages/ipykernel_launcher.py:4: RuntimeWarning: invalid value encountered in true_divide\n",
      "  after removing the cwd from sys.path.\n"
     ]
    }
   ],
   "source": [
    "price_to_return(df_close).to_csv('crypto_return_usd.csv')"
   ]
  },
  {
   "cell_type": "code",
   "execution_count": 5,
   "metadata": {},
   "outputs": [
    {
     "name": "stderr",
     "output_type": "stream",
     "text": [
      "/home/ryan/.local/lib/python3.6/site-packages/ipykernel_launcher.py:4: RuntimeWarning: divide by zero encountered in true_divide\n",
      "  after removing the cwd from sys.path.\n",
      "/home/ryan/.local/lib/python3.6/site-packages/ipykernel_launcher.py:4: RuntimeWarning: invalid value encountered in true_divide\n",
      "  after removing the cwd from sys.path.\n"
     ]
    }
   ],
   "source": [
    "import copy \n",
    "\n",
    "# btc return of crypto\n",
    "\n",
    "mat_price = copy.deepcopy(df_close)\n",
    "\n",
    "for coin in mat_price.columns:\n",
    "    mat_price[coin] = mat_price[coin]/mat_price.BTC\n",
    "\n",
    "price_to_return(mat_price).to_csv('crypto_return_btc.csv')\n",
    "    "
   ]
  },
  {
   "cell_type": "code",
   "execution_count": null,
   "metadata": {},
   "outputs": [],
   "source": []
  }
 ],
 "metadata": {
  "kernelspec": {
   "display_name": "Python 3",
   "language": "python",
   "name": "python3"
  },
  "language_info": {
   "codemirror_mode": {
    "name": "ipython",
    "version": 3
   },
   "file_extension": ".py",
   "mimetype": "text/x-python",
   "name": "python",
   "nbconvert_exporter": "python",
   "pygments_lexer": "ipython3",
   "version": "3.6.7"
  }
 },
 "nbformat": 4,
 "nbformat_minor": 2
}
